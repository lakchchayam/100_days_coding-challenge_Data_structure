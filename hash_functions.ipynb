{
 "cells": [
  {
   "cell_type": "code",
   "execution_count": 4,
   "metadata": {},
   "outputs": [
    {
     "name": "stdout",
     "output_type": "stream",
     "text": [
      "hash for 181 is : 181\n",
      "hash for 181.23 is : 530343892119126197\n",
      "hash for Python is: 914766043192719348\n"
     ]
    }
   ],
   "source": [
    "#python hash()\n",
    "#the hash method returns the hash value of the object if it has one\n",
    "# hash values are the integers that are used to compare dictionary keys during a lookup quickly \n",
    "#internally hash method calls __hash__ method of an object which is set by default for an objext \n",
    "\n",
    "#the syntax of the hash method is hash(object)\n",
    "\n",
    "\n",
    "#!!!hash parameters\n",
    "\n",
    "#object\n",
    "#the object whose hash value is to be returned \n",
    "\n",
    "##return from a hash value \n",
    "#hash value return the value hash value of the object\n",
    "\n",
    "\n",
    "\n",
    "###example how hash works in python \n",
    "##hash for integer unchanged \n",
    "print('hash for 181 is :' , hash(181))\n",
    "\n",
    "\n",
    "\n",
    "\n",
    "\n",
    "\n",
    "##hash for decimal \n",
    "print('hash for 181.23 is :', hash(181.23))\n",
    "\n",
    "\n",
    "##hash for string is\n",
    "print('hash for Python is:',hash('Python'))"
   ]
  },
  {
   "cell_type": "code",
   "execution_count": 7,
   "metadata": {},
   "outputs": [
    {
     "name": "stdout",
     "output_type": "stream",
     "text": [
      "the hash is: 414823910824391870\n"
     ]
    }
   ],
   "source": [
    "###hash for immutable type object\n",
    "#hash method  only works for imuutable type objects or tuple \n",
    "#tuple of vowels \n",
    "\n",
    "vowels  = ('a', 'e', 'i', 'o', 'u')\n",
    "\n",
    "print('the hash is:', hash(vowels))"
   ]
  }
 ],
 "metadata": {
  "kernelspec": {
   "display_name": "Python 3",
   "language": "python",
   "name": "python3"
  },
  "language_info": {
   "codemirror_mode": {
    "name": "ipython",
    "version": 3
   },
   "file_extension": ".py",
   "mimetype": "text/x-python",
   "name": "python",
   "nbconvert_exporter": "python",
   "pygments_lexer": "ipython3",
   "version": "3.8.3"
  }
 },
 "nbformat": 4,
 "nbformat_minor": 4
}
